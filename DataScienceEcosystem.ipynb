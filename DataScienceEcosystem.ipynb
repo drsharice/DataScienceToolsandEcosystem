{
 "cells": [
  {
   "cell_type": "markdown",
   "id": "f542771a",
   "metadata": {},
   "source": [
    "# Data Science Tools and Ecosystem"
   ]
  },
  {
   "cell_type": "markdown",
   "id": "b025a672",
   "metadata": {},
   "source": [
    "In this notebook, Data Science Tools and Ecosystem are summarized."
   ]
  },
  {
   "cell_type": "markdown",
   "id": "1f6e5d0f",
   "metadata": {},
   "source": [
    "<b>Objectives:</b>\n",
    "    <ul>\n",
    "<li>Did a lot of Markdowns</li>\n",
    "<li>Ordered and Unorderlist</li>\n",
    "<li>Computation</li>\n",
    "</ul>\n",
    "    "
   ]
  },
  {
   "cell_type": "markdown",
   "id": "a0aa4d9d",
   "metadata": {},
   "source": [
    "Some of the popular languages that Data Scientists use are:\n",
    "<ol>\n",
    "    <li> python </li>\n",
    "    <li> R </li>\n",
    "    <li> JavaScript</li>\n",
    "    \n",
    " <ol>"
   ]
  },
  {
   "cell_type": "markdown",
   "id": "c8ee1248",
   "metadata": {},
   "source": [
    "Some of the popular languages that Data Scientists use are:\n",
    "<ol>\n",
    "<li>Numpy</li>\n",
    "<li>plotly</li>\n",
    "<li>Seaborn</li>\n",
    "</ol>"
   ]
  },
  {
   "cell_type": "markdown",
   "id": "0dfc90d2",
   "metadata": {},
   "source": [
    "<tr>\n",
    "<th><Data Science Tools></th>\n",
    "</tr>\n",
    "<tr>\n",
    "<td><Jupyter Notebook></td>\n",
    "</tr>\n",
    "<tr> \n",
    "<td><RStudio></td>\n",
    "</tr>\n",
    "<tr> \n",
    "<td><Visual Studio Code></td> \n",
    "</tr>\n"
   ]
  },
  {
   "cell_type": "markdown",
   "id": "a7671ad5",
   "metadata": {},
   "source": [
    "| Data Science Tools|  \n",
    "|:-----------|\n",
    "| Jupyter |  \n",
    "| RStudio|  \n",
    "| Visual Studio Code|\n"
   ]
  },
  {
   "cell_type": "markdown",
   "id": "56d9bd11",
   "metadata": {},
   "source": [
    "### Below are a few examples arithmetic expressions in Python"
   ]
  },
  {
   "cell_type": "code",
   "execution_count": 2,
   "id": "2b80edcf",
   "metadata": {},
   "outputs": [
    {
     "data": {
      "text/plain": [
       "17"
      ]
     },
     "execution_count": 2,
     "metadata": {},
     "output_type": "execute_result"
    }
   ],
   "source": [
    "# This a simple aritmetic expression to mutiply then add integers\n",
    "(3*4)+5"
   ]
  },
  {
   "cell_type": "code",
   "execution_count": 6,
   "id": "a242a1bf",
   "metadata": {},
   "outputs": [
    {
     "name": "stdout",
     "output_type": "stream",
     "text": [
      "3\n"
     ]
    }
   ],
   "source": [
    "#This will convert 200 minutes to hours by dividing by 60\n",
    "total_minutes = 200\n",
    "hours = total_minutes //60\n",
    "print(hours)"
   ]
  },
  {
   "cell_type": "markdown",
   "id": "ea58ad3e",
   "metadata": {},
   "source": [
    "## Author\n",
    "Sharice Cannady"
   ]
  },
  {
   "cell_type": "code",
   "execution_count": null,
   "id": "e225cf1d",
   "metadata": {},
   "outputs": [],
   "source": []
  }
 ],
 "metadata": {
  "kernelspec": {
   "display_name": "Python 3 (ipykernel)",
   "language": "python",
   "name": "python3"
  },
  "language_info": {
   "codemirror_mode": {
    "name": "ipython",
    "version": 3
   },
   "file_extension": ".py",
   "mimetype": "text/x-python",
   "name": "python",
   "nbconvert_exporter": "python",
   "pygments_lexer": "ipython3",
   "version": "3.9.13"
  }
 },
 "nbformat": 4,
 "nbformat_minor": 5
}
